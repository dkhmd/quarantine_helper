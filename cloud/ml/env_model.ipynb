{
 "cells": [
  {
   "cell_type": "code",
   "execution_count": 1,
   "id": "26c4e982",
   "metadata": {},
   "outputs": [],
   "source": [
    "import boto3\n",
    "import pandas as pd\n",
    "import matplotlib.pyplot as plt\n",
    "import matplotlib.dates as mdates\n",
    "%matplotlib inline"
   ]
  },
  {
   "cell_type": "code",
   "execution_count": 2,
   "id": "a9c142d3",
   "metadata": {},
   "outputs": [],
   "source": [
    "dynamodb = boto3.resource('dynamodb', region_name='ap-northeast-1')\n",
    "table = dynamodb.Table('dynamodb-env-keisuke-nakata')\n",
    "ret = table.scan()\n",
    "df = pd.DataFrame(data=ret['Items'])\n",
    "df['date'] = pd.to_datetime(df['date'], format='%Y-%m-%d %H:%M:%S')"
   ]
  },
  {
   "cell_type": "code",
   "execution_count": 3,
   "id": "f2a48ec1",
   "metadata": {},
   "outputs": [
    {
     "data": {
      "text/html": [
       "<div>\n",
       "<style scoped>\n",
       "    .dataframe tbody tr th:only-of-type {\n",
       "        vertical-align: middle;\n",
       "    }\n",
       "\n",
       "    .dataframe tbody tr th {\n",
       "        vertical-align: top;\n",
       "    }\n",
       "\n",
       "    .dataframe thead th {\n",
       "        text-align: right;\n",
       "    }\n",
       "</style>\n",
       "<table border=\"1\" class=\"dataframe\">\n",
       "  <thead>\n",
       "    <tr style=\"text-align: right;\">\n",
       "      <th></th>\n",
       "      <th>date</th>\n",
       "      <th>ambient</th>\n",
       "      <th>co2_ndir</th>\n",
       "      <th>co2_pas</th>\n",
       "      <th>humidity</th>\n",
       "      <th>address</th>\n",
       "      <th>voc</th>\n",
       "      <th>temperature</th>\n",
       "      <th>dust</th>\n",
       "      <th>room</th>\n",
       "    </tr>\n",
       "  </thead>\n",
       "  <tbody>\n",
       "    <tr>\n",
       "      <th>0</th>\n",
       "      <td>2021-11-01 12:53:27</td>\n",
       "      <td>430</td>\n",
       "      <td>5000</td>\n",
       "      <td>586</td>\n",
       "      <td>43.5333251953125</td>\n",
       "      <td>85:a5:ca:78:5c:a4</td>\n",
       "      <td>86</td>\n",
       "      <td>26.430206298828125</td>\n",
       "      <td>0</td>\n",
       "      <td>NaN</td>\n",
       "    </tr>\n",
       "    <tr>\n",
       "      <th>1</th>\n",
       "      <td>2021-11-01 12:54:06</td>\n",
       "      <td>430</td>\n",
       "      <td>5000</td>\n",
       "      <td>586</td>\n",
       "      <td>43.5333251953125</td>\n",
       "      <td>85:a5:ca:78:5c:a4</td>\n",
       "      <td>87</td>\n",
       "      <td>26.430206298828125</td>\n",
       "      <td>0</td>\n",
       "      <td>NaN</td>\n",
       "    </tr>\n",
       "    <tr>\n",
       "      <th>2</th>\n",
       "      <td>2021-11-01 12:54:38</td>\n",
       "      <td>444</td>\n",
       "      <td>5000</td>\n",
       "      <td>586</td>\n",
       "      <td>43.5333251953125</td>\n",
       "      <td>85:a5:ca:78:5c:a4</td>\n",
       "      <td>98</td>\n",
       "      <td>26.430206298828125</td>\n",
       "      <td>0</td>\n",
       "      <td>NaN</td>\n",
       "    </tr>\n",
       "    <tr>\n",
       "      <th>3</th>\n",
       "      <td>2021-11-01 12:55:11</td>\n",
       "      <td>444</td>\n",
       "      <td>5000</td>\n",
       "      <td>586</td>\n",
       "      <td>43.5333251953125</td>\n",
       "      <td>85:a5:ca:78:5c:a4</td>\n",
       "      <td>93</td>\n",
       "      <td>26.430206298828125</td>\n",
       "      <td>0</td>\n",
       "      <td>NaN</td>\n",
       "    </tr>\n",
       "    <tr>\n",
       "      <th>4</th>\n",
       "      <td>2021-11-01 12:55:43</td>\n",
       "      <td>463</td>\n",
       "      <td>5000</td>\n",
       "      <td>586</td>\n",
       "      <td>43.5333251953125</td>\n",
       "      <td>85:a5:ca:78:5c:a4</td>\n",
       "      <td>94</td>\n",
       "      <td>26.430206298828125</td>\n",
       "      <td>0</td>\n",
       "      <td>NaN</td>\n",
       "    </tr>\n",
       "  </tbody>\n",
       "</table>\n",
       "</div>"
      ],
      "text/plain": [
       "                 date ambient co2_ndir co2_pas          humidity  \\\n",
       "0 2021-11-01 12:53:27     430     5000     586  43.5333251953125   \n",
       "1 2021-11-01 12:54:06     430     5000     586  43.5333251953125   \n",
       "2 2021-11-01 12:54:38     444     5000     586  43.5333251953125   \n",
       "3 2021-11-01 12:55:11     444     5000     586  43.5333251953125   \n",
       "4 2021-11-01 12:55:43     463     5000     586  43.5333251953125   \n",
       "\n",
       "             address voc         temperature dust room  \n",
       "0  85:a5:ca:78:5c:a4  86  26.430206298828125    0  NaN  \n",
       "1  85:a5:ca:78:5c:a4  87  26.430206298828125    0  NaN  \n",
       "2  85:a5:ca:78:5c:a4  98  26.430206298828125    0  NaN  \n",
       "3  85:a5:ca:78:5c:a4  93  26.430206298828125    0  NaN  \n",
       "4  85:a5:ca:78:5c:a4  94  26.430206298828125    0  NaN  "
      ]
     },
     "execution_count": 3,
     "metadata": {},
     "output_type": "execute_result"
    }
   ],
   "source": [
    "df.head()"
   ]
  },
  {
   "cell_type": "markdown",
   "id": "2f28647d",
   "metadata": {},
   "source": [
    "# 隔離部屋"
   ]
  },
  {
   "cell_type": "code",
   "execution_count": 4,
   "id": "0e377a56",
   "metadata": {},
   "outputs": [
    {
     "data": {
      "text/html": [
       "<div>\n",
       "<style scoped>\n",
       "    .dataframe tbody tr th:only-of-type {\n",
       "        vertical-align: middle;\n",
       "    }\n",
       "\n",
       "    .dataframe tbody tr th {\n",
       "        vertical-align: top;\n",
       "    }\n",
       "\n",
       "    .dataframe thead th {\n",
       "        text-align: right;\n",
       "    }\n",
       "</style>\n",
       "<table border=\"1\" class=\"dataframe\">\n",
       "  <thead>\n",
       "    <tr style=\"text-align: right;\">\n",
       "      <th></th>\n",
       "      <th>date</th>\n",
       "      <th>ambient</th>\n",
       "      <th>co2_ndir</th>\n",
       "      <th>co2_pas</th>\n",
       "      <th>humidity</th>\n",
       "      <th>address</th>\n",
       "      <th>voc</th>\n",
       "      <th>temperature</th>\n",
       "      <th>dust</th>\n",
       "      <th>room</th>\n",
       "    </tr>\n",
       "  </thead>\n",
       "  <tbody>\n",
       "    <tr>\n",
       "      <th>45</th>\n",
       "      <td>2021-11-01 21:39:06</td>\n",
       "      <td>143</td>\n",
       "      <td>0</td>\n",
       "      <td>1039</td>\n",
       "      <td>56.04248046875</td>\n",
       "      <td>85:a5:ca:78:5c:a4</td>\n",
       "      <td>15</td>\n",
       "      <td>23.7652587890625</td>\n",
       "      <td>0</td>\n",
       "      <td>work</td>\n",
       "    </tr>\n",
       "    <tr>\n",
       "      <th>46</th>\n",
       "      <td>2021-11-01 21:39:38</td>\n",
       "      <td>143</td>\n",
       "      <td>0</td>\n",
       "      <td>1061</td>\n",
       "      <td>57.6171875</td>\n",
       "      <td>85:a5:ca:78:5c:a4</td>\n",
       "      <td>17</td>\n",
       "      <td>23.554306030273438</td>\n",
       "      <td>0</td>\n",
       "      <td>work</td>\n",
       "    </tr>\n",
       "    <tr>\n",
       "      <th>47</th>\n",
       "      <td>2021-11-01 21:40:11</td>\n",
       "      <td>142</td>\n",
       "      <td>0</td>\n",
       "      <td>1060</td>\n",
       "      <td>58.6090087890625</td>\n",
       "      <td>85:a5:ca:78:5c:a4</td>\n",
       "      <td>27</td>\n",
       "      <td>23.51959228515625</td>\n",
       "      <td>0</td>\n",
       "      <td>work</td>\n",
       "    </tr>\n",
       "    <tr>\n",
       "      <th>48</th>\n",
       "      <td>2021-11-01 21:40:43</td>\n",
       "      <td>142</td>\n",
       "      <td>0</td>\n",
       "      <td>1074</td>\n",
       "      <td>59.344482421875</td>\n",
       "      <td>85:a5:ca:78:5c:a4</td>\n",
       "      <td>39</td>\n",
       "      <td>23.492889404296875</td>\n",
       "      <td>0</td>\n",
       "      <td>work</td>\n",
       "    </tr>\n",
       "    <tr>\n",
       "      <th>49</th>\n",
       "      <td>2021-11-01 21:41:16</td>\n",
       "      <td>140</td>\n",
       "      <td>0</td>\n",
       "      <td>1084</td>\n",
       "      <td>59.64508056640625</td>\n",
       "      <td>85:a5:ca:78:5c:a4</td>\n",
       "      <td>50</td>\n",
       "      <td>23.51959228515625</td>\n",
       "      <td>0</td>\n",
       "      <td>work</td>\n",
       "    </tr>\n",
       "  </tbody>\n",
       "</table>\n",
       "</div>"
      ],
      "text/plain": [
       "                  date ambient co2_ndir co2_pas           humidity  \\\n",
       "45 2021-11-01 21:39:06     143        0    1039     56.04248046875   \n",
       "46 2021-11-01 21:39:38     143        0    1061         57.6171875   \n",
       "47 2021-11-01 21:40:11     142        0    1060   58.6090087890625   \n",
       "48 2021-11-01 21:40:43     142        0    1074    59.344482421875   \n",
       "49 2021-11-01 21:41:16     140        0    1084  59.64508056640625   \n",
       "\n",
       "              address voc         temperature dust  room  \n",
       "45  85:a5:ca:78:5c:a4  15    23.7652587890625    0  work  \n",
       "46  85:a5:ca:78:5c:a4  17  23.554306030273438    0  work  \n",
       "47  85:a5:ca:78:5c:a4  27   23.51959228515625    0  work  \n",
       "48  85:a5:ca:78:5c:a4  39  23.492889404296875    0  work  \n",
       "49  85:a5:ca:78:5c:a4  50   23.51959228515625    0  work  "
      ]
     },
     "execution_count": 4,
     "metadata": {},
     "output_type": "execute_result"
    }
   ],
   "source": [
    "df_work = df[df['room'] == 'work']\n",
    "df_work = df[df['date'] > '2021-11-01 21:39:00']\n",
    "df_work.head()"
   ]
  },
  {
   "cell_type": "code",
   "execution_count": 5,
   "id": "0c77dc15",
   "metadata": {},
   "outputs": [
    {
     "data": {
      "text/plain": [
       "[<matplotlib.lines.Line2D at 0x7f6035f46290>]"
      ]
     },
     "execution_count": 5,
     "metadata": {},
     "output_type": "execute_result"
    },
    {
     "data": {
      "image/png": "[encoded data removed]",
      "text/plain": [
       "<Figure size 1728x288 with 2 Axes>"
      ]
     },
     "metadata": {
      "needs_background": "light"
     },
     "output_type": "display_data"
    }
   ],
   "source": [
    "plt.figure(figsize=(24, 4))\n",
    "\n",
    "plt.subplot(2,1,1)\n",
    "plt.plot(df_work['date'], df_work[['temperature', 'humidity']])\n",
    " \n",
    "plt.subplot(2,1,2)\n",
    "plt.plot(df_work['date'], df_work[['co2_pas']])"
   ]
  },
  {
   "cell_type": "markdown",
   "id": "c00bce2a",
   "metadata": {},
   "source": [
    "# トイレ"
   ]
  },
  {
   "cell_type": "code",
   "execution_count": null,
   "id": "0ab28543",
   "metadata": {},
   "outputs": [],
   "source": []
  }
 ],
 "metadata": {
  "kernelspec": {
   "display_name": "conda_tensorflow2_latest_p37",
   "language": "python",
   "name": "conda_tensorflow2_latest_p37"
  },
  "language_info": {
   "codemirror_mode": {
    "name": "ipython",
    "version": 3
   },
   "file_extension": ".py",
   "mimetype": "text/x-python",
   "name": "python",
   "nbconvert_exporter": "python",
   "pygments_lexer": "ipython3",
   "version": "3.7.10"
  }
 },
 "nbformat": 4,
 "nbformat_minor": 5
}
